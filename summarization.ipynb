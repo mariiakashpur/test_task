{
 "cells": [
  {
   "cell_type": "code",
   "execution_count": 39,
   "metadata": {},
   "outputs": [],
   "source": [
    "import codecs\n",
    "import os\n",
    "import random\n",
    "import re\n",
    "\n",
    "\n",
    "from sklearn.feature_extraction.text import TfidfVectorizer"
   ]
  },
  {
   "cell_type": "markdown",
   "metadata": {},
   "source": [
    "Let's start by writing a function for getting all the relevant files that contain emails:"
   ]
  },
  {
   "cell_type": "code",
   "execution_count": 40,
   "metadata": {},
   "outputs": [],
   "source": [
    "def get_emails(dir):\n",
    "    'Get relevant email data files from the folder.'\n",
    "    r = []\n",
    "    for root, dirs, files in os.walk(dir):\n",
    "        for name in files:\n",
    "            if 'spam' in name or 'ham' in name:\n",
    "                r.append(os.path.join(root, name))\n",
    "    return r\n"
   ]
  },
  {
   "cell_type": "markdown",
   "metadata": {},
   "source": [
    "Now let's create a list with emails, where each email is a list of sentences. Sentence splitting is done with a regular expression, but special libraries can also be used for that:"
   ]
  },
  {
   "cell_type": "code",
   "execution_count": 41,
   "metadata": {},
   "outputs": [
    {
     "name": "stdout",
     "output_type": "stream",
     "text": [
      "[['Subject: christmas tree farm pictures '], ['Subject: vastar resources , inc .', 'gary , production from the high island larger block a - 1 # 2 commenced on saturday at 2 : 00 p .', 'm .', 'at about 6 , 500 gross .', 'carlos expects between 9 , 500 and 10 , 000 gross for tomorrow .', 'vastar owns 68 % of the gross production .', 'george x 3 - 6992 - - - - - - - - - - - - - - - - - - - - - - forwarded by george weissman / hou / ect on 12 / 13 / 99 10 : 16 am - - - - - - - - - - - - - - - - - - - - - - - - - - - daren j farmer 12 / 10 / 99 10 : 38 am to : carlos j rodriguez / hou / ect @ ect cc : george weissman / hou / ect @ ect , melissa graves / hou / ect @ ect subject : vastar resources , inc .', 'carlos , please call linda and get everything set up .', \"i ' m going to estimate 4 , 500 coming up tomorrow , with a 2 , 000 increase each following day based on my conversations with bill fischer at bmar .\", 'd .', '- - - - - - - - - - - - - - - - - - - - - - forwarded by daren j farmer / hou / ect on 12 / 10 / 99 10 : 34 am - - - - - - - - - - - - - - - - - - - - - - - - - - - enron north america corp .', 'from : george weissman 12 / 10 / 99 10 : 00 am to : daren j farmer / hou / ect @ ect cc : gary bryan / hou / ect @ ect , melissa graves / hou / ect @ ect subject : vastar resources , inc .', 'darren , the attached appears to be a nomination from vastar resources , inc .', 'for the high island larger block a - 1 # 2 ( previously , erroneously referred to as the # 1 well ) .', 'vastar now expects the well to commence production sometime tomorrow .', \"i told linda harris that we ' d get her a telephone number in gas control so she can provide notification of the turn - on tomorrow .\", \"linda ' s numbers , for the record , are 281 .\", '584 .', '3359 voice and 713 .', '312 .', '1689 fax .', 'would you please see that someone contacts linda and advises her how to submit future nominations via e - mail , fax or voice ?', 'thanks .', 'george x 3 - 6992 - - - - - - - - - - - - - - - - - - - - - - forwarded by george weissman / hou / ect on 12 / 10 / 99 09 : 44 am - - - - - - - - - - - - - - - - - - - - - - - - - - - \" linda harris \" on 12 / 10 / 99 09 : 38 : 43 am to : george weissman / hou / ect @ ect cc : subject : hi a - 1 # 2 effective 12 - 11 - 99 | - - - - - - - - + - - - - - - - - - - + - - - - - - - - - - - | | | | | | mscf / d | min ftp | time | | | | | | - - - - - - - - + - - - - - - - - - - + - - - - - - - - - - - | | | | | | 4 , 500 | 9 , 925 | 24 hours | | | | | | - - - - - - - - + - - - - - - - - - - + - - - - - - - - - - - | | | | | | 6 , 000 | 9 , 908 | 24 hours | | | | | | - - - - - - - - + - - - - - - - - - - + - - - - - - - - - - - | | | | | | 8 , 000 | 9 , 878 | 24 hours | | | | | | - - - - - - - - + - - - - - - - - - - + - - - - - - - - - - - | | | | | | 10 , 000 | 9 , 840 | 24 hours | | | | | | - - - - - - - - + - - - - - - - - - - + - - - - - - - - - - - | | | | | | 12 , 000 | 9 , 793 | 24 hours | | | | | | - - - - - - - - + - - - - - - - - - - + - - - - - - - - - - - | | | | | | 14 , 000 | 9 , 738 | 24 hours | | | | | | - - - - - - - - + - - - - - - - - - - + - - - - - - - - - - - | | | | | | 16 , 000 | 9 , 674 | 24 hours | | | | | | - - - - - - - - + - - - - - - - - - - + - - - - - - - - - - - | | | | | | 18 , 000 | 9 , 602 | 24 hours | | | | | | - - - - - - - - + - - - - - - - - - - + - - - - - - - - - - - | | | | | | 20 , 000 | 9 , 521 | 24 hours | | | | | | - - - - - - - - + - - - - - - - - - - + - - - - - - - - - - - | | | | | | 22 , 000 | 9 , 431 | 24 hours | | | | | | - - - - - - - - + - - - - - - - - - - + - - - - - - - - - - - | | | | | | 24 , 000 | 9 , 332 | 24 hours | | | | | | - - - - - - - - + - - - - - - - - - - + - - - - - - - - - - - | | | | | | 26 , 000 | 9 , 224 | 24 hours | | | | | | - - - - - - - - + - - - - - - - - - - + - - - - - - - - - - - | | | | | | 28 , 000 | 9 , 108 | 24 hours | | | | | | - - - - - - - - + - - - - - - - - - - + - - - - - - - - - - - | | | | | | 30 , 000 | 8 , 982 | 24 hours | | | | | | - - - - - - - - + - - - - - - - - - - + - - - - - - - - - - - | | | | | | 32 , 000 | 8 , 847 | 24 hours | | | | | | - - - - - - - - + - - - - - - - - - - + - - - - - - - - - - - | | | | | | 34 , 000 | 8 , 703 | 24 hours | | | | | | - - - - - - - - + - - - - - - - - - - + - - - - - - - - - - - | | | | | | 36 , 000 | 8 , 549 | 24 hours | | | | | | - - - - - - - - + - - - - - - - - - - + - - - - - - - - - - - |']]\n"
     ]
    }
   ],
   "source": [
    "regex = re.compile('(?<!\\w\\.\\w.)(?<![A-Z][a-z]\\.)(?<=\\.|\\?)\\s')\n",
    "\n",
    "all_files = 'data'\n",
    "emails = []\n",
    "\n",
    "for f in get_emails(all_files):\n",
    "    with codecs.open(f, 'r', encoding='utf-8', errors='ignore') as fdata:\n",
    "        emails.append(re.split(regex, fdata.read().replace('\\n', ' ').replace('\\r', '')))\n",
    "\n",
    "print(emails[:2])"
   ]
  },
  {
   "cell_type": "markdown",
   "metadata": {},
   "source": [
    "Text summarisation can be **extractive** or **abstractive**. Extractive methods attempt to summarize articles by selecting a subset of words that retain the most important points. Abstractive methods select words based on semantic understanding, even those words did not appear in the source documents. So, abstractive summarisation is a more difficult task. In our task, we don't have any labeled data for training, so the algorithm has to be unsupervised.\n",
    "Here is a simple algorithm I will use for this task:\n",
    "\n",
    "   * Treat each email as a separate document.\n",
    "   * Score each word in the email with **tf-idf**. Tf-idf stands for term frequency-inverse document frequency, and this\n",
    "   weight is a statistical measure used to evaluate how important a word is to a document in a collection or corpus. In our case, if the word has high tf-idf, it means it is important to the content of the email.\n",
    "   * Score each sentence by the average score of its words.\n",
    "   * Display top 1 sentence. This will be treated as the summary of the email. Basically, the idea is: the more important words a sentence has, the more likely it is to be a good summary of the email.\n",
    "   \n",
    "   Let's calculate tf-idf scores. I will use sklearn's TfidfVectorizer for that. I will also remove stopwords from vectorizing and will only vectorize tokens that contain at least one letter. This is done because our emails contain a lot of numbers that don't mean much to the emails' content.\n"
   ]
  },
  {
   "cell_type": "code",
   "execution_count": 42,
   "metadata": {},
   "outputs": [],
   "source": [
    "vectorizer = TfidfVectorizer(lowercase=True, stop_words='english', analyzer='word',token_pattern=u'(?ui)\\\\b\\\\w*[a-z]+\\\\w*\\\\b')"
   ]
  },
  {
   "cell_type": "markdown",
   "metadata": {},
   "source": [
    "Now let's write a function to extract the summary from an email. This function completes steps described in algorithm above: takes an email, vectorizes it with tf-idf scores, goes over sentences, adds scores of its words, divides it by number of words to calculate a sentence score and chooses highest scoring sentence. If its length is 15, good, if not we return the highest scoring sentence of a different length. Because we are doing extractive summarization, it is difficult to return 15 words, so this is done as a workaround."
   ]
  },
  {
   "cell_type": "code",
   "execution_count": 43,
   "metadata": {},
   "outputs": [],
   "source": [
    "def get_highest_scored_sent(email, summary_length):\n",
    "    'Takes email and returns one sentence that is its summary, trying to return summary of length summary_length.'\n",
    "    tfidf_matrix = vectorizer.fit_transform(email)\n",
    "    feature_names = vectorizer.get_feature_names()\n",
    "\n",
    "    max_score_any = 0\n",
    "    max_score_desired = 0\n",
    "    summary_sent_any = None\n",
    "    summary_sent_desired = None\n",
    "    num_words_any = 0\n",
    "    for i in range(len(email)):\n",
    "        if len(email[i]) == 0: # avoid empty sentences\n",
    "            continue\n",
    "        feature_index = tfidf_matrix[i,:].nonzero()[1]\n",
    "        tfidf_scores = zip(feature_index, [tfidf_matrix[i, x] for x in feature_index])\n",
    "        tfidf_sum = 0\n",
    "        num_words = 0\n",
    "        for w, s in [(feature_names[i], s) for (i, s) in tfidf_scores]:\n",
    "            tfidf_sum += s\n",
    "            num_words += 1\n",
    "\n",
    "        sent_score = tfidf_sum/len(email[i])\n",
    "        if sent_score > max_score_any and num_words > num_words_any:\n",
    "            if email[i].lower().startswith('subject'): # avoid subjects of emails to be used as summaries\n",
    "                continue\n",
    "            summary_sent_any = email[i]\n",
    "            max_score_any = sent_score\n",
    "            num_words_any = num_words\n",
    "        if num_words == summary_length:\n",
    "            if sent_score > max_score_desired:\n",
    "                summary_sent_desired = email[i]\n",
    "                max_score_desired = sent_score    \n",
    "    if summary_sent_desired:\n",
    "        print(\"A summary sentence of exactly {} words was extracted:\\n\".format(summary_length), summary_sent_desired)\n",
    "    else:\n",
    "        print(\"A summary of exactly {} words could NOT be extracted. Here is an alternative summary:\\n\".format(summary_length), summary_sent_any)\n",
    "\n"
   ]
  },
  {
   "cell_type": "markdown",
   "metadata": {},
   "source": [
    "Now let's randomly apply this function on 10 emails from the corpus:"
   ]
  },
  {
   "cell_type": "code",
   "execution_count": 44,
   "metadata": {},
   "outputs": [
    {
     "name": "stdout",
     "output_type": "stream",
     "text": [
      "Randomly selected email: \n",
      "Subject: their waiting for you to call them ...hey my man , i found this new dating chatline with tons and tons of chicks ! : ) call it up now : 011 - 239 - 28 - 4132 it ' s this crazy hookup site , i got laid 6 times this week man , you don ' t have to use a credit card or anything you won ' t pay a cent ! lots of them are just looking for a random hookup , one night stands etc 011 - 239 - 28 - 4132 you won ' t be disapointed you ' ll see im not kidding .thank me later after you ' r gettin laid 7 days a week .big mike \n",
      "\n",
      "\n",
      "\n",
      "A summary of exactly 15 words could NOT be extracted. Here is an alternative summary:\n",
      " hey my man , i found this new dating chatline with tons and tons of chicks ! : ) call it up now : 011 - 239 - 28 - 4132 it ' s this crazy hookup site , i got laid 6 times this week man , you don ' t have to use a credit card or anything you won ' t pay a cent ! lots of them are just looking for a random hookup , one night stands etc 011 - 239 - 28 - 4132 you won ' t be disapointed you ' ll see im not kidding .\n",
      "\n",
      "\n",
      "\n",
      "Randomly selected email: \n",
      "Subject: re : telephone interview with the enron research group hi ramaswamy : thank you for responding so promptly .i have scheduled the telephone interview for monday , march 19 th from 10 : 30 - 11 : 30 am ( central time ) .please let me know if this is not convenient .they will call you at ( 773 ) 324 - 5077 .sincerely , shirley crenshaw \" ramaswamy garimella \" on 03 / 05 / 2001 09 : 27 : 26 pm to : shirley .crenshaw @ enron .com cc : ramaswamy _ garimella @ hotmail .com subject : re : telephone interview with the enron research group hi shirley , thanks for providing me an opportunity to interview with enron research group .i have final exams in the next week till march 15 .so , any date from march 19 onwards will be convenient to me .my phone number is ( 773 ) 324 - 5077 .any time after 10 a .m will be fine with me .please let me know the date and time that will be convenient to vince kaminski ' s group .thank you very much .best regards , ramaswamy garimella .- - - - original message follows - - - - from : shirley .crenshaw @ enron .com to : ramaswamy _ garimella @ hotmail .com cc : vince .j .kaminski @ enron .com , stinson .gibner @ enron .com , vasant .shanbhogue @ enron .com , tanya .tamarchenko @ enron .com subject : telephone interview with the enron research group date : mon , 5 mar 2001 14 : 38 : 18 - 0600 mime - version : 1 .0 received : from [ 192 .152 .140 .9 ] by hotmail .com ( 3 .2 ) with esmtp id mhotmailbc 6 d 45780030 d 82197 daco 988 co 99 a 960 ; mon mar 05 12 : 43 : 36 2001 received : from mailman .enron .com ( mailman .enron .com [ 192 .168 .189 .66 ] ) by postmaster .enron .com ( 8 .8 .8 / 8 .8 .8 / postmaster - 1 .00 ) with esmtp id uaal 0526 for ; mon , 5 mar 2001 20 : 43 : 35 gmt received : from nahou - msmswo 2 px .corp .enron .com ( [ 172 .28 .10 .38 ] ) by mailman .enron .com ( 8 .10 .1 / 8 .10 .1 / corp - 1 .05 ) with esmtp id f 25 khzal 4665 for ; mon , 5 mar 2001 14 : 43 : 35 - 0600 ( cst ) received : from ene - mtaol .enron .com ( unverified ) by nahou - msmswo 2 px .corp .enron .com ( content technologies smtprs 4 .1 .5 ) with esmtp id for ; mon , 5 mar 2001 14 : 43 : 41 - 0600\n",
      "\n",
      "\n",
      "\n",
      "A summary of exactly 15 words could NOT be extracted. Here is an alternative summary:\n",
      " please let me know the date and time that will be convenient to vince kaminski ' s group .\n",
      "\n",
      "\n",
      "\n",
      "Randomly selected email: \n",
      "Subject: ipanema ou leblon acomodaes em copacabana , ipanema ou leblon : temos muitos apartamentos para alugar por temporada .se voc de alguma forma procura apartamentos em copacabana , ipanema ou leblon .ligue agora ou entre no site www .apartmentt .net call : 55 xx 21 2256 0457 = 2549 9157 = 9688 2456 agency addess .: copacabana av .613 / 208 rio de janeiro - rj brazil retire seu e - mail no tasteofrio @ hotmail .com rooms in copacabana , ipanema or leblon : we many apartments for rent per season .if you of some form it looks apartments in copacabana , ipanema or leblon .it binds now or cheking or web site www .apartmentt .net rooms in copacabana , , acomodaes em copacabana ,\n",
      "\n",
      "\n",
      "\n",
      "A summary of exactly 15 words could NOT be extracted. Here is an alternative summary:\n",
      " se voc de alguma forma procura apartamentos em copacabana , ipanema ou leblon .\n",
      "\n",
      "\n",
      "\n",
      "Randomly selected email: \n",
      "Subject: organization meeting please rearrange your schedules to attend a meeting with stan horton today at 10 : 45 am in 49 c 3 .sorry for the short notice .cindy stark executive assistant to stan horton tel : 713 / 853 - 6197 fax : 713 / 345 - 7047 cindy .stark @ enron .com\n",
      "\n",
      "\n",
      "\n",
      "A summary of exactly 15 words could NOT be extracted. Here is an alternative summary:\n",
      " sorry for the short notice .\n",
      "\n",
      "\n",
      "\n",
      "Randomly selected email: \n",
      "Subject: competitive analysis update # 10 - us terrorism attacks a .market updates u .s .markets ?us equity markets are closed today but may open friday .nyse / nasdaq / amex officials will reconvene later today to decide on restart .?chicago markets ( cbot / cme ) closed early at 1 : 00 pm cdt , cbot electronic a / c / e trading expected to resume tonight for grains , and resumption of all commodities under consideration .?nymex : still closed , electronic access trading planned to open later tonight ( start time still under consideration ) ?in equity news , frightened travelers are expected to avoid planes once carriers resume flying , prompting standard & poor ' s to consider cutting the long - term credit ratings of all u .s .airlines , british airways and air canada .that would raise borrowing costs and worsen the industry ' s least profitable year in a decade .the losses at u .s .airlines , until this week predicted to reach $ 2 .6 billion , may now rival the $ 4 .8 billion loss of 1992 .?in europe , the four biggest airlines - - british airways , deutsche lufthansa ag , air france sa and klm royal dutch airlines nv - - will all now post a full - year loss due to their reliance on profits from the trans - atlantic market .?in asia , services to and from the u .s .contribute 10 percent to 20 percent of revenue at cathay pacific airways and singapore airlines ltd .some $ 3 .8 billion was wiped off the market value of airlines based in hong kong , singapore , tokyo and other asian capitals in two days .the plunge in stocks reduced the value of asia ' s eight biggest carriers by about 14 percent .b .transportation / infrastructure updates air travel ?145 domestic airports have now been cleared to reopen , though logan international airport will remain closed indefinitely , despite the federal aviation authority ' s decision to open u .s .airspace for commercial airplanes .?at least some regularly scheduled united airlines flights are expected to begin at 7 p .m .edt thursday , and some scheduled flights on american airlines and twa after 4 p .m .edt .delta air lines said \" very limited operations \" would start sometime after noon edt thursday .continental has canceled all regularly scheduled flights for the day , but planned to offer special service in cities such as san francisco and cleveland .maritime transportation ?open , including ny harbor , which is doing individual vessels inspections and escorts into the harbor c .political updates ?indications are beginning to point to a substantial military strike against bin laden assets in afghanistan as well as the taleban government .lawrence b .lindsey , the president ' s chief economic adviser : \" we ' ve been working on getting the basic infrastructure of america up and running again , that ' s the main thing we ' ve been doing .\" world bank officials want to cancel their annual meeting in conjunction with the international monetary fund , now slated for sept .28 - 29 in washington , according to media reports .the dc police have also asked that the meetings be cancelled , but world bank officials must wait for treasury secretary o ' neill to make the decision .bank officials fear the bush administration will want the meeting to take place to underscore that washington is back to business as usual .\n",
      "\n",
      "\n",
      "\n",
      "A summary sentence of exactly 15 words was extracted:\n",
      " the dc police have also asked that the meetings be cancelled , but world bank officials must wait for treasury secretary o ' neill to make the decision .\n",
      "\n",
      "\n",
      "\n",
      "Randomly selected email: \n",
      "Subject: re : jesse bryson ' s review - - - - - original message - - - - - from : williams iii , bill sent : friday , august 03 , 2001 12 : 25 pm to : mainzer , elliot subject : jesse bryson ' s review elliot , i have attached the standard pep review form .the last three categories regarding goal setting and objectives to be acheived still need to be completed .feel free to add in any comments you might have in other sections as well .i will plan on meeting with jesse and you early next week .if you have any questions just let me know .thanks , bill >\n",
      "\n",
      "\n",
      "\n",
      "A summary of exactly 15 words could NOT be extracted. Here is an alternative summary:\n",
      " the last three categories regarding goal setting and objectives to be acheived still need to be completed .\n",
      "\n",
      "\n",
      "\n",
      "Randomly selected email: \n",
      "Subject: italian crafted rolex from $ 75 to $ 275 - free shipping heya , do you want a rolex watch ?in our online store you can buy replicas of rolex watches .they look and feel exactly like the real thing .- we have 20 + different brands in our selection - free shipping if you order 5 or more - save up to 40 % compared to the cost of other replicas - standard features : - screw - in crown - unidirectional turning bezel where appropriate - all the appropriate rolex logos , on crown and dial - heavy weight visit us : http : / / www .bhex .com / rep / rolex / best regards , hilton jones no thanks : http : / / www .bhex .com / z .php\n",
      "\n",
      "\n",
      "\n",
      "A summary of exactly 15 words could NOT be extracted. Here is an alternative summary:\n",
      " com / rep / rolex / best regards , hilton jones no thanks : http : / / www .\n",
      "\n",
      "\n",
      "\n",
      "Randomly selected email: \n",
      "Subject: student number 89876 good day , this is a limited special offer directly from our admissions office .you are now qualified to obtain a degree from a prestigious university .no required tests , classes , books , or interviews ...degree ' s are given based on life experiences .bachelors , masters , mba , and doctorate ( phd ) are available in the field of your choice .discrete and very affordable - everyone eligible .no one is turned down .we send the certificate to all countries ( worldwide ) click below and fill out a short form and you will be on your way to a better future .http : / / betterjobsfindyou .com / ?partid = wh 6 sincerley dr .dominic voss director of admissions no future offers : http : / / betterjobsfindyou .com / st .html xkiewitlconsideratekyuki 9 coset \n",
      "\n",
      "\n",
      "\n",
      "A summary of exactly 15 words could NOT be extracted. Here is an alternative summary:\n",
      " degree ' s are given based on life experiences .\n",
      "\n",
      "\n",
      "\n",
      "Randomly selected email: \n",
      "Subject: mg staff visits - - tuesday , wednesday and thursday ...this week ! dear all , as you know , we will be hosting staff from mg tomorrow evening and on wednesday and thursday evening for a presentation / overview on enron and a tour of enron house .the mg staff have not been selected by department for these events , but rather have been given the option to sign up on a first - come , first - serve basis .i anticipate having approximately 35 people on tuesday , 20 on wednesday and 35 on thursday .the members of mg ' s management who joined us on the 8 th of june are not attending this week in order to provide their colleagues with an opportunity to visit the building ( hence the smaller numbers ) .the purpose of these events is to help mg staff get better acquainted with enron and to see first - hand where they will be relocating to in september .to this end , i would like to invite all of you to attend at least one of three events with a view to being on hand to act as a host / hostess , potentially join tours of the building and to be on hand to field any specific questions which may come up about your respective departments .i hope this will also prove to be a good opportunity for you to meet mg staff on a more informal basis .the schedule of events each night will be as follows : 17 : 45 - 18 : 00 mg staff arrive at enron house 18 : 00 - 18 : 05 welcome and introductions : eric gadd 18 : 05 - 18 : 15 enron video 18 : 15 - 18 : 40 presentation on enron and enron europe : mark schroeder ( tuesday ) fernley dyson ( wednesday ) john thompson ( thursday ) 18 : 40 - 19 : 30 tours of enron house / drinks & canap , s 19 : 30 - 19 : 45 depart for home by bus to liverpool street station [ or directly from enron house ] i know that many of you have been keen to participate in this kind of informal event with our new colleagues at mg , so i hope you will be able to join us .so that we can get a feel for numbers , i would appreciate it if you could rsvp to me by 2 : 00 p .m .tomorrow regarding your participation for all three events .please note that due to a number of enron staff participating in the chase corporate challenge on wednesday evening , i am very short on \" tour guides \" .so , if you can make it on wednesday evening and if you feel up to it , please advise if you can lead a tour of the building ( a map and cheat sheet will be provided ! ! ) .regards , fiona\n",
      "\n",
      "\n",
      "\n",
      "A summary sentence of exactly 15 words was extracted:\n",
      " this week ! dear all , as you know , we will be hosting staff from mg tomorrow evening and on wednesday and thursday evening for a presentation / overview on enron and a tour of enron house .\n",
      "\n",
      "\n",
      "\n",
      "Randomly selected email: \n",
      "Subject: re : order vic ' odinn mediccationns at lowesst pricess everyy ! over 80 .% offf , pricess wontt get lowerr we selll vic ' od ( in v , ia .gra x , ana .x http : / / www .s 3 curesripts .com / ?refid = 87 \n",
      "\n",
      "\n",
      "\n",
      "A summary of exactly 15 words could NOT be extracted. Here is an alternative summary:\n",
      " % offf , pricess wontt get lowerr we selll vic ' od ( in v , ia .\n",
      "\n",
      "\n",
      "\n"
     ]
    }
   ],
   "source": [
    "random.shuffle(emails)\n",
    "for email in emails[:10]:\n",
    "    print('Randomly selected email: ')\n",
    "    print(''.join(email))\n",
    "    print('\\n\\n')\n",
    "    get_highest_scored_sent(email, 15)\n",
    "    print('\\n\\n')\n",
    "    "
   ]
  },
  {
   "cell_type": "markdown",
   "metadata": {},
   "source": [
    "Of course, the summaries are often not perfect. However, this was just a small prototype, and more things could be tried. For example, better preprocessing of the corpus - the emails are often not cleaned and badly structured."
   ]
  }
 ],
 "metadata": {
  "kernelspec": {
   "display_name": "Python 3",
   "language": "python",
   "name": "python3"
  },
  "language_info": {
   "codemirror_mode": {
    "name": "ipython",
    "version": 3
   },
   "file_extension": ".py",
   "mimetype": "text/x-python",
   "name": "python",
   "nbconvert_exporter": "python",
   "pygments_lexer": "ipython3",
   "version": "3.6.5"
  }
 },
 "nbformat": 4,
 "nbformat_minor": 2
}
