{
 "cells": [
  {
   "cell_type": "code",
   "execution_count": 18,
   "metadata": {},
   "outputs": [],
   "source": [
    "import codecs\n",
    "import os\n",
    "import random\n",
    "\n",
    "import spacy\n",
    "from spacy import displacy\n",
    "from collections import Counter\n",
    "import en_core_web_sm"
   ]
  },
  {
   "cell_type": "markdown",
   "metadata": {},
   "source": [
    "First we need to retrieve emails. Let's store file contents in a list of strings:"
   ]
  },
  {
   "cell_type": "code",
   "execution_count": 19,
   "metadata": {},
   "outputs": [
    {
     "name": "stdout",
     "output_type": "stream",
     "text": [
      "['Subject: christmas tree farm pictures ', 'Subject: vastar resources , inc . gary , production from the high island larger block a - 1 # 2 commenced on saturday at 2 : 00 p . m . at about 6 , 500 gross . carlos expects between 9 , 500 and 10 , 000 gross for tomorrow . vastar owns 68 % of the gross production . george x 3 - 6992 - - - - - - - - - - - - - - - - - - - - - - forwarded by george weissman / hou / ect on 12 / 13 / 99 10 : 16 am - - - - - - - - - - - - - - - - - - - - - - - - - - - daren j farmer 12 / 10 / 99 10 : 38 am to : carlos j rodriguez / hou / ect @ ect cc : george weissman / hou / ect @ ect , melissa graves / hou / ect @ ect subject : vastar resources , inc . carlos , please call linda and get everything set up . i \\' m going to estimate 4 , 500 coming up tomorrow , with a 2 , 000 increase each following day based on my conversations with bill fischer at bmar . d . - - - - - - - - - - - - - - - - - - - - - - forwarded by daren j farmer / hou / ect on 12 / 10 / 99 10 : 34 am - - - - - - - - - - - - - - - - - - - - - - - - - - - enron north america corp . from : george weissman 12 / 10 / 99 10 : 00 am to : daren j farmer / hou / ect @ ect cc : gary bryan / hou / ect @ ect , melissa graves / hou / ect @ ect subject : vastar resources , inc . darren , the attached appears to be a nomination from vastar resources , inc . for the high island larger block a - 1 # 2 ( previously , erroneously referred to as the # 1 well ) . vastar now expects the well to commence production sometime tomorrow . i told linda harris that we \\' d get her a telephone number in gas control so she can provide notification of the turn - on tomorrow . linda \\' s numbers , for the record , are 281 . 584 . 3359 voice and 713 . 312 . 1689 fax . would you please see that someone contacts linda and advises her how to submit future nominations via e - mail , fax or voice ? thanks . george x 3 - 6992 - - - - - - - - - - - - - - - - - - - - - - forwarded by george weissman / hou / ect on 12 / 10 / 99 09 : 44 am - - - - - - - - - - - - - - - - - - - - - - - - - - - \" linda harris \" on 12 / 10 / 99 09 : 38 : 43 am to : george weissman / hou / ect @ ect cc : subject : hi a - 1 # 2 effective 12 - 11 - 99 | - - - - - - - - + - - - - - - - - - - + - - - - - - - - - - - | | | | | | mscf / d | min ftp | time | | | | | | - - - - - - - - + - - - - - - - - - - + - - - - - - - - - - - | | | | | | 4 , 500 | 9 , 925 | 24 hours | | | | | | - - - - - - - - + - - - - - - - - - - + - - - - - - - - - - - | | | | | | 6 , 000 | 9 , 908 | 24 hours | | | | | | - - - - - - - - + - - - - - - - - - - + - - - - - - - - - - - | | | | | | 8 , 000 | 9 , 878 | 24 hours | | | | | | - - - - - - - - + - - - - - - - - - - + - - - - - - - - - - - | | | | | | 10 , 000 | 9 , 840 | 24 hours | | | | | | - - - - - - - - + - - - - - - - - - - + - - - - - - - - - - - | | | | | | 12 , 000 | 9 , 793 | 24 hours | | | | | | - - - - - - - - + - - - - - - - - - - + - - - - - - - - - - - | | | | | | 14 , 000 | 9 , 738 | 24 hours | | | | | | - - - - - - - - + - - - - - - - - - - + - - - - - - - - - - - | | | | | | 16 , 000 | 9 , 674 | 24 hours | | | | | | - - - - - - - - + - - - - - - - - - - + - - - - - - - - - - - | | | | | | 18 , 000 | 9 , 602 | 24 hours | | | | | | - - - - - - - - + - - - - - - - - - - + - - - - - - - - - - - | | | | | | 20 , 000 | 9 , 521 | 24 hours | | | | | | - - - - - - - - + - - - - - - - - - - + - - - - - - - - - - - | | | | | | 22 , 000 | 9 , 431 | 24 hours | | | | | | - - - - - - - - + - - - - - - - - - - + - - - - - - - - - - - | | | | | | 24 , 000 | 9 , 332 | 24 hours | | | | | | - - - - - - - - + - - - - - - - - - - + - - - - - - - - - - - | | | | | | 26 , 000 | 9 , 224 | 24 hours | | | | | | - - - - - - - - + - - - - - - - - - - + - - - - - - - - - - - | | | | | | 28 , 000 | 9 , 108 | 24 hours | | | | | | - - - - - - - - + - - - - - - - - - - + - - - - - - - - - - - | | | | | | 30 , 000 | 8 , 982 | 24 hours | | | | | | - - - - - - - - + - - - - - - - - - - + - - - - - - - - - - - | | | | | | 32 , 000 | 8 , 847 | 24 hours | | | | | | - - - - - - - - + - - - - - - - - - - + - - - - - - - - - - - | | | | | | 34 , 000 | 8 , 703 | 24 hours | | | | | | - - - - - - - - + - - - - - - - - - - + - - - - - - - - - - - | | | | | | 36 , 000 | 8 , 549 | 24 hours | | | | | | - - - - - - - - + - - - - - - - - - - + - - - - - - - - - - - |']\n"
     ]
    }
   ],
   "source": [
    "def get_training_files(dir):\n",
    "    'Get relevant training data files from the folder.'\n",
    "    r = []\n",
    "    for root, dirs, files in os.walk(dir):\n",
    "        for name in files:\n",
    "            if 'spam' in name or 'ham' in name:\n",
    "                r.append(os.path.join(root, name))\n",
    "    return r\n",
    "\n",
    "all_files = 'data'\n",
    "emails = []\n",
    "for f in get_training_files(all_files):\n",
    "    with codecs.open(f, 'r', encoding='utf-8', errors='ignore') as fdata:\n",
    "        emails.append(fdata.read().replace('\\n', ' ').replace('\\r', ''))\n",
    "\n",
    "print(emails[:2])"
   ]
  },
  {
   "cell_type": "markdown",
   "metadata": {},
   "source": [
    "For Named Entity Recognition, we will use **Spacy**. Their NER model was trained on the OntoNotes 5 corpus. The problem with our emails is that they are all lowercased already, which results in certain entities like person names being very difficult to find."
   ]
  },
  {
   "cell_type": "code",
   "execution_count": 24,
   "metadata": {},
   "outputs": [
    {
     "name": "stdout",
     "output_type": "stream",
     "text": [
      "Randomly selected email: \n",
      "Subject: now you can diversify the acts in your bedroom ! cialis drug information : an online resource on cialis , a new fda approved impotence drug we all have strength enough to endure the misfortunes of others . blessed are those who can give without remembering , and take without forgetting . doubt is not a pleasant condition , but certainty is absurd . this hath not offended the king .\n",
      "\n",
      "\n",
      "\n",
      "Named entities found: \n",
      "[]\n",
      "\n",
      "\n",
      "\n",
      "Randomly selected email: \n",
      "Subject: next wednesday ' s interviews hi bill , amy asked that i set up three interviews with you for wednesday of next week . please let me know your availablity that day and i will go ahead and get started on the scheduling . thanks ! - grace\n",
      "\n",
      "\n",
      "\n",
      "Named entities found: \n",
      "[('next wednesday', 'DATE'), ('three', 'CARDINAL'), ('wednesday', 'DATE'), ('next week', 'DATE'), ('that day', 'DATE')]\n",
      "\n",
      "\n",
      "\n",
      "Randomly selected email: \n",
      "Subject: actual numbers of staff sorry about the delay i have been waiting for info from new york and germany . - - - - - - - - - - - - - - - - - - - - - - forwarded by fiona mcnaught / lon / ect on 06 / 04 / 2001 17 : 52 - - - - - - - - - - - - - - - - - - - - - - - - - - - mike jordan 04 / 04 / 2001 16 : 36 to : fiona mcnaught / lon / ect @ ect cc : patti thompson / hou / ect @ ect subject : actual numbers of staff fiona sally beck would like some details on our middle office headcount - can you complete the following table of details and send to patti please power gas and credit risk ( including head of rm ) 36 power gas and credit documentation ( including gcp ) 37 power gas and credit settlements 19 power gas and credit trade accounting 24 nordic power 8 metals london 80 ( ish ) metals ny 21 metals recycling germany 154 cheers mike\n",
      "\n",
      "\n",
      "\n",
      "Named entities found: \n",
      "[('06 / 04 / 2001 17', 'DATE'), ('04 / 04 / 2001 16', 'DATE'), ('36', 'CARDINAL'), ('36', 'CARDINAL'), ('37', 'CARDINAL'), ('19', 'CARDINAL'), ('24', 'CARDINAL'), ('8', 'CARDINAL'), ('80', 'CARDINAL'), ('21', 'CARDINAL'), ('154', 'CARDINAL')]\n",
      "\n",
      "\n",
      "\n",
      "Randomly selected email: \n",
      "Subject: een avontuurtje is oke , als je dit bericht niet kan lezen , klik hier . je hebt dit bericht ontvangen omdat je in de db smsmag / kdotv bent . om uit te schrijven , klik hier . \n",
      "\n",
      "\n",
      "\n",
      "Named entities found: \n",
      "[]\n",
      "\n",
      "\n",
      "\n",
      "Randomly selected email: \n",
      "Subject: request submitted : access request for sharon . farrell @ enron . com you have received this email because you are listed as a security approver . please click approval to review and act upon this request . request id : 000000000009507 request create date : 12 / 7 / 00 9 : 52 : 08 am requested for : sharon . farrell @ enron . com resource name : eol us other resource type : applications\n",
      "\n",
      "\n",
      "\n",
      "Named entities found: \n",
      "[('000000000009507', 'CARDINAL'), ('12', 'CARDINAL'), ('52', 'CARDINAL'), ('08', 'CARDINAL')]\n",
      "\n",
      "\n",
      "\n",
      "Randomly selected email: \n",
      "Subject: fwd : want | valium | > + x + anax ; vlagr @ ; ativ . @ n , som + a + ~ : pntermin : 7 mktv we supply high quality medications by mail order at very competitive prices and provide a professional , convenient and affordable means of purchasing your prescription medicines online quality meds we offer : $ vl @ gra ? valiu + m + + xan @ x ) som @ ` pntermin ? ativ @ ' n plus : m 3 : ridia , x 3 ni . ca | , a ` mbi 3 n , sonat . a , fl ` 3 xeril , ce | ' 3 brex , fioric 3 . t , t : ram @ do | , u : | tr @ m , l 3 ` vitra , pr ` 0 p 3 cia , ac ' yc | 0 vir , p ` roz @ c , p , busp @ : r , ad . ipex , ionam | ` n we fully comply with international law re : controlled drugs . enjoy deep discount meds here . \n",
      "\n",
      "\n",
      "\n",
      "Named entities found: \n",
      "[('7', 'CARDINAL'), ('$ vl @ gra', 'MONEY'), ('3', 'CARDINAL'), ('3', 'CARDINAL'), ('3', 'CARDINAL'), ('3', 'CARDINAL'), ('3', 'CARDINAL'), ('3', 'CARDINAL'), ('3', 'CARDINAL'), ('0', 'CARDINAL'), ('3', 'CARDINAL')]\n",
      "\n",
      "\n",
      "\n",
      "Randomly selected email: \n",
      "Subject: start date : 12 / 19 / 01 ; hourahead hour : 11 ; start date : 12 / 19 / 01 ; hourahead hour : 11 ; no ancillary schedules awarded . no variances detected . log messages : parsing file - - > > o : \\ portland \\ westdesk \\ california scheduling \\ iso final schedules \\ 2001121911 . txt\n",
      "\n",
      "\n",
      "\n",
      "Named entities found: \n",
      "[('12 / 19 / 01', 'CARDINAL'), ('11', 'CARDINAL'), ('12', 'CARDINAL'), ('11', 'CARDINAL'), ('\\\\', 'CARDINAL'), ('\\\\', 'PRODUCT'), ('2001121911', 'CARDINAL')]\n",
      "\n",
      "\n",
      "\n",
      "Randomly selected email: \n",
      "Subject: re : it was nice meeting you at the informs meeting . i enjoyed talking to you in the slc conference . thank you for the reference to your recent publication . let me find out about rice seminars and any interest within our group and get back to you . regards , krishna . uryasev @ aol . com on 06 / 18 / 2000 05 : 58 : 38 am to : cc : subject : it was nice meeting you at the informs meeting . dear dr . krishnarao , it was nice meeting you at the informs meeting . if it is of interest , you can download my recent papers and reports in the area of risk management and financial engineering from further , i give the list of recent downloadable publications related to the risk management and financial engineering . 1 . uryasev , s . conditional value - at - risk : optimization algorithms and applications . financial engineering news , no . 14 , february , 2000 . 2 . uryasev , s . introduction to the theory of probabilistic functions and percentiles ( value - at - risk ) . research report 2000 - 7 . ise dept . , university of florida , may 2000 . 3 . chekhlov , a . , uryasev , s . , and m . zabarankin . portfolio optimization with drawdown constraints . research report 2000 - 5 . ise dept . , university of florida , april 2000 . 4 . palmquist , j . , uryasev , s . , and p . krokhmal . portfolio optimization with conditional value - at - risk objective and constraints . research report 99 - 14 . ise dept . , university of florida , november 1999 . 5 . andersson , f . and s . uryasev . credit risk optimization with conditional value - at - risk criterion . research report 99 - 9 . ise dept . , university of florida , august 1999 . 6 . uryasev , s . and r . t . rockafellar . optimization of conditional value - at - risk . research report 99 - 4 . ise dept . , university of florida , june 1999 . i am e - mailing to you from japan . i am for three month at the center for research in advanced financial technology , tokyo institute of technology . here in japan , i am collaborating with my colleges on new classification techniques . suppose you have some data set ( e . g . , a data set of financial records of companies ) and you want to rate the companies based on this ( or some other information ) . linear programming and semi - definite programming methods are used for this purpose . with these techniques we are able to calculate credit rating of investment companies ( aaa , bbb , \u0001 ( ) . similar techniques can be used for scoring of credit card applications and other classification problems . i am interested in applied projects in energy , risk management , and financial engineering area . i will be happy to collaborate with you on this subject . i am looking for financial support for phd students who may work on your applications . also , i will be interested in to give a presentation at your company or at the rice university , as we discussed . best regards , stan uryasev prof . stanislav uryasev university of florida , ise po box 116595 303 weil hall gainesville , fl 32611 - 6595 e - mail : uryasev @ ise . ufl . edu url : www . ise . ufl . edu / uryasev\n",
      "\n",
      "\n",
      "\n",
      "Named entities found: \n",
      "[('06 / 18 / 2000 05', 'DATE'), ('58', 'CARDINAL'), ('38 am', 'TIME'), ('1', 'CARDINAL'), ('14', 'CARDINAL'), ('2', 'CARDINAL'), ('2000 - 7', 'DATE'), ('3', 'CARDINAL'), ('2000 - 5', 'DATE'), ('april 2000', 'DATE'), ('4', 'CARDINAL'), ('99', 'CARDINAL'), ('november 1999', 'DATE'), ('5', 'CARDINAL'), ('99', 'CARDINAL'), ('1999', 'DATE'), ('6', 'CARDINAL'), ('99', 'CARDINAL'), ('three month', 'DATE'), ('116595 303', 'DATE'), ('32611 - 6595', 'PRODUCT')]\n",
      "\n",
      "\n",
      "\n",
      "Randomly selected email: \n",
      "Subject: fw : kitchen / nettleton tax and misc issues louise , press the button and we ' ll make below happen . david - - - - - original message - - - - - from : rozen , tara sent : wednesday , may 16 , 2001 1 : 18 pm to : oxley , david cc : chuck . k . debenon @ us . pwcglobal . com subject : kitchen / nettleton tax and misc issues david further to our conversation last week , i have managed to get some information that i hope will be useful for louise , although i am still unclear about the exact circumstances / issues . 1 ) there should not be a problem with louise ' s 2000 return in terms of her name . nettleton was listed on the return and kitchen was listed on the estimated payment vouchers . as long as the social security numbers are the same , it is unlikely that there will be any issue with the irs but if they do come back to lousie asking for clarification , pwc will write them a letter explaining the situation and that will be it . 2 ) issues with louise ' s 2001 return . if possible , pwc houston suggest that if louise ' s social security card says nettleton ( still not sure about this as pwc do not ask for copies of the ss cards ) , then any information that the company sends to the irs must also list her name as nettleton . louise ' s us payroll has the name kitchen and thus w 2 will have the name kitchen . if she would like to change her name and the company documents , she can do this via a form on the web http : / / isc . enron . com / dynamic / hrforms / hr % 20 form - personal % 20 data % 20 change . doc . 3 ) in order for louise to change her name to nettleton in the uk , according to julie this is what needs to happen : \" we only require a certified copy of the marriage certificate , and then both london hr service and enron london payroll should be notified . the service centre should change her name , payroll will advise the providers , such as shareplan , and benefits \" . pwc london have confirmed that if louise wishes to change her name to nettleton with the uk tax office , they will be happy to write a letter on her behalf advising them as such . they will await her confirmation before doing so , though . chuck - if any of the above is incorrect of if you wish to add anything , please do so asap so that david can get back with louise . regards tara\n",
      "\n",
      "\n",
      "\n",
      "Named entities found: \n",
      "[('david - - - - -', 'PERSON'), ('wednesday', 'DATE'), ('16 , 2001 1', 'DATE'), ('18 pm', 'TIME'), ('last week', 'DATE'), ('1', 'CARDINAL'), ('2000', 'DATE'), ('2', 'CARDINAL'), ('2001', 'DATE'), ('2', 'CARDINAL'), ('20', 'CARDINAL'), ('20', 'DATE'), ('20', 'CARDINAL'), ('3', 'CARDINAL')]\n",
      "\n",
      "\n",
      "\n",
      "Randomly selected email: \n",
      "Subject: meter # 9833 daren , silver in gas control called me and said the flow at meter # 9833 was approx . 5 , 400 / d for june . the nom is 13 , 171 / d . do you want me to adjust june ? the nom for july is 5 , 398 / d . vance listed 11 , 068 / d on the preliminary july spreadsheet but he called me and revised it to 5 , 398 / d . the c / p is helmerich & payne . bob\n",
      "\n",
      "\n",
      "\n",
      "Named entities found: \n",
      "[('9833', 'MONEY'), ('9833', 'MONEY'), ('5', 'CARDINAL'), ('400', 'CARDINAL'), ('13', 'CARDINAL'), ('171', 'CARDINAL'), ('5', 'CARDINAL'), ('398', 'CARDINAL'), ('11', 'CARDINAL'), ('068', 'CARDINAL'), ('5', 'CARDINAL'), ('398', 'CARDINAL')]\n",
      "\n",
      "\n",
      "\n"
     ]
    }
   ],
   "source": [
    "nlp = en_core_web_sm.load()\n",
    "random.shuffle(emails)\n",
    "for email in emails[:10]:\n",
    "    doc = nlp(email)\n",
    "    print('Randomly selected email: ')\n",
    "    print(email)\n",
    "    print('\\n\\n')\n",
    "    print('Named entities found: ')\n",
    "    print([(X.text, X.label_) for X in doc.ents])\n",
    "    print('\\n\\n')"
   ]
  },
  {
   "cell_type": "code",
   "execution_count": null,
   "metadata": {},
   "outputs": [],
   "source": []
  }
 ],
 "metadata": {
  "kernelspec": {
   "display_name": "Python 3",
   "language": "python",
   "name": "python3"
  },
  "language_info": {
   "codemirror_mode": {
    "name": "ipython",
    "version": 3
   },
   "file_extension": ".py",
   "mimetype": "text/x-python",
   "name": "python",
   "nbconvert_exporter": "python",
   "pygments_lexer": "ipython3",
   "version": "3.6.5"
  }
 },
 "nbformat": 4,
 "nbformat_minor": 2
}
